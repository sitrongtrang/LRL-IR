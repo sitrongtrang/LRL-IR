{
 "cells": [
  {
   "cell_type": "code",
   "execution_count": null,
   "metadata": {},
   "outputs": [],
   "source": [
    "import google.generativeai as genai\n",
    "import os\n",
    "import typing_extensions as typing\n",
    "import json\n",
    "from datasets import load_dataset"
   ]
  },
  {
   "cell_type": "code",
   "execution_count": 23,
   "metadata": {},
   "outputs": [],
   "source": [
    "dataset = load_dataset(\"wikimedia/wikipedia\", \"20231101.en\")['train']"
   ]
  },
  {
   "cell_type": "code",
   "execution_count": 24,
   "metadata": {},
   "outputs": [],
   "source": [
    "class QAPairs(typing.TypedDict):\n",
    "    question : str\n",
    "    answer: str\n",
    "    wrong_answers : list[str]"
   ]
  },
  {
   "cell_type": "code",
   "execution_count": null,
   "metadata": {},
   "outputs": [],
   "source": [
    "genai.configure(api_key='')\n",
    "\n",
    "model = genai.GenerativeModel('gemini-1.5-flash')\n",
    "\n",
    "few_shot = \"\"\"\n",
    "Base on the text, generate as many question answer and wrong answers pairs as possible but in Khmer\n",
    "\n",
    "Example:\n",
    "\n",
    "Text:\n",
    "\n",
    "The tomb of Philippe Pot is a life-sized funerary monument, now on display in the Louvre, Paris. It was commissioned by the military leader and diplomat Philippe Pot around the year 1480, to be used for his burial at the chapel of Saint-Jean-Baptiste in Cîteaux Abbey, Dijon, France. His effigy shows him recumbent on a slab, his hands raised in prayer, and wearing armour and a heraldic tunic. The eight mourners (pleurants) are dressed in black hoods, and act as pallbearers carrying him towards his grave. Pot commissioned the tomb when he was around 52 years old, 13 years before his death in 1493. The detailed inscriptions written on the sides of the slab emphasise his achievements and social standing.\n",
    "\n",
    "Data generated:\n",
    "\n",
    "Question 1: អ្នកណាជាអ្នកគាំទ្រនៃសិលាចារឹក Philippe Pot?\n",
    "Answer 1: ក្រុមនិយាយទោស ៨ នាក់ដែលស្លៀកពាក់ខោមួកពណ៌ខ្មៅ\n",
    "Wrong answer 1.1: ឈ្មោះចម្លាក់របស់ Louvre\n",
    "Wrong answer 1.2: ព្រះសង្ឃនៅ Abbey Citeaux\n",
    "\n",
    "Question 2: តើអ្នកចាំកំព្រាអ្នកស្លាប់នៅពេលណានៅក្នុងការគាំទ្រដល់ Philippe Pot?\n",
    "Answer 2: ក្នុងឆ្នាំ ១៤៨០\n",
    "Wrong answer 2.1: ក្នុងឆ្នាំ ១៤៩៣\n",
    "Wrong answer 2.2: ក្នុងឆ្នាំ ១៤៥០\n",
    "\n",
    "---------------------------------------------------------------------------------------------------------------------------\n",
    "\n",
    "Text:\n",
    "\n",
    "\n",
    "\n",
    "\"\"\""
   ]
  },
  {
   "cell_type": "code",
   "execution_count": null,
   "metadata": {},
   "outputs": [],
   "source": [
    "def generate_questions_answers(text_chunk):\n",
    "    \n",
    "    response = model.generate_content(\n",
    "        few_shot + text_chunk,\n",
    "        generation_config=genai.GenerationConfig(\n",
    "            response_mime_type=\"application/json\", response_schema=list[QAPairs]\n",
    "        ),\n",
    "    )  \n",
    "    try:\n",
    "        response_text = response.text\n",
    "        \n",
    "        try:\n",
    "            json_data = json.loads(response_text)\n",
    "            return json_data\n",
    "        except json.JSONDecodeError:\n",
    "            return None\n",
    "        \n",
    "    except ValueError:\n",
    "        return None\n",
    "    \n",
    "    "
   ]
  },
  {
   "cell_type": "code",
   "execution_count": null,
   "metadata": {},
   "outputs": [],
   "source": [
    "\n",
    "def process_text(text, i, chunk_size=4000):\n",
    "    text_chunk = text[0 : chunk_size ]\n",
    "    response = generate_questions_answers(text_chunk)\n",
    "    \n",
    "    if response is None: return\n",
    "    \n",
    "    with open('responses/' + str(i) + '.json', 'w') as f:\n",
    "        json.dump(response, f, indent=2)\n",
    "    \n",
    "    "
   ]
  },
  {
   "cell_type": "code",
   "execution_count": null,
   "metadata": {},
   "outputs": [
    {
     "name": "stdout",
     "output_type": "stream",
     "text": [
      "response:\n",
      "GenerateContentResponse(\n",
      "    done=True,\n",
      "    iterator=None,\n",
      "    result=protos.GenerateContentResponse({\n",
      "      \"candidates\": [\n",
      "        {\n",
      "          \"content\": {\n",
      "            \"parts\": [\n",
      "              {\n",
      "                \"text\": \"[{\\\"question\\\": \\\"\\u178f\\u17be\\u1796\\u17b6\\u1780\\u17d2\\u1799\\u17a2\\u1793\\u17b6\\u1792\\u17b7\\u1794\\u178f\\u17c1\\u1799\\u17d2\\u1799\\u1798\\u1780\\u1796\\u17b8\\u178e\\u17b6?\\\", \\\"wrong_answers\\\": [\\\"\\u1796\\u17b6\\u1780\\u17d2\\u1799\\u1793\\u17c1\\u17c7\\u1798\\u1780\\u1796\\u17b8\\u17a1\\u17b6\\u178f\\u17b6\\u17c6\\u1784\\\", \\\"\\u1796\\u17b6\\u1780\\u17d2\\u1799\\u1793\\u17c1\\u17c7\\u1798\\u1780\\u1796\\u17b8\\u1794\\u17b6\\u179a\\u17b6\\u17c6\\u1784\\\", \\\"\\u1796\\u17b6\\u1780\\u17d2\\u1799\\u1793\\u17c1\\u17c7\\u1798\\u1780\\u1796\\u17b8\\u17a2\\u17b6\\u179a\\u17c9\\u17b6\\u1794\\u17cb \\\"  ]}, {\\\"question\\\": \\\"\\u178f\\u17be\\u17a2\\u1793\\u17b6\\u1792\\u17b7\\u1794\\u178f\\u17c1\\u1799\\u17d2\\u1799\\u1782\\u17ba\\u1787\\u17b6\\u17a2\\u17d2\\u179c\\u17b8?\\\", \\\"wrong_answers\\\": [\\\"\\u179c\\u17b6\\u1782\\u17ba\\u1787\\u17b6\\u1782\\u17c6\\u1793\\u17b7\\u178f\\u178a\\u17c2\\u179b\\u1782\\u17b6\\u17c6\\u1791\\u17d2\\u179a\\u17a2\\u17c6\\u178e\\u17b6\\u1785\\u179a\\u1794\\u179f\\u17cb\\u179a\\u178a\\u17d2\\u178b\\\", \\\"\\u179c\\u17b6\\u1782\\u17ba\\u1787\\u17b6\\u1782\\u17c6\\u1793\\u17b7\\u178f\\u178a\\u17c2\\u179b\\u1794\\u17d2\\u179a\\u1786\\u17b6\\u17c6\\u1784\\u1793\\u17b9\\u1784\\u179f\\u17c1\\u179a\\u17b8\\u1797\\u17b6\\u1796\\u1794\\u17bb\\u1782\\u17d2\\u1782\\u179b\\\", \\\"\\u179c\\u17b6\\u1782\\u17ba\\u1787\\u17b6\\u1782\\u17c6\\u1793\\u17b7\\u178f\\u178a\\u17c2\\u179b\\u1794\\u17d2\\u179a\\u1786\\u17b6\\u17c6\\u1784\\u1793\\u17b9\\u1784\\u179f\\u17a0\\u1782\\u1798\\u1793\\u17cd \\\"  ]}, {\\\"question\\\": \\\"\\u178f\\u17be\\u17a2\\u17d2\\u1793\\u1780\\u178e\\u17b6\\u1787\\u17b6\\u17a2\\u17d2\\u1793\\u1780\\u1793\\u1799\\u17c4\\u1794\\u17b6\\u1799\\u178a\\u17c6\\u1794\\u17bc\\u1784\\u178a\\u17c2\\u179b\\u17a0\\u17c5\\u1781\\u17d2\\u179b\\u17bd\\u1793\\u17af\\u1784\\u1790\\u17b6\\u1787\\u17b6\\u17a2\\u1793\\u17b6\\u1792\\u17b7\\u1794\\u178f\\u17c1\\u1799\\u17d2\\u1799?\\\", \\\"wrong_answers\\\": [\\\"Karl Marx\\\", \\\"Lenin\\\", \\\"Mao Zedong\\\"  ]}, {\\\"question\\\": \\\"\\u178f\\u17be\\u17a2\\u1793\\u17b6\\u1792\\u17b7\\u1794\\u178f\\u17c1\\u1799\\u17d2\\u1799\\u1782\\u17ba\\u1787\\u17b6\\u1782\\u17c6\\u1793\\u17b7\\u178f\\u1793\\u1799\\u17c4\\u1794\\u17b6\\u1799\\u17ac\\u1782\\u17c6\\u1793\\u17b7\\u178f\\u179f\\u1784\\u17d2\\u1782\\u1798?\\\", \\\"wrong_answers\\\": [\\\"\\u179c\\u17b6\\u1782\\u17ba\\u1787\\u17b6\\u1782\\u17c6\\u1793\\u17b7\\u178f\\u179f\\u1784\\u17d2\\u1782\\u1798\\u178f\\u17c2\\u1794\\u17c9\\u17bb\\u178e\\u17d2\\u178e\\u17c4\\u17c7\\\", \\\"\\u179c\\u17b6\\u1782\\u17ba\\u1787\\u17b6\\u1782\\u17c6\\u1793\\u17b7\\u178f\\u1793\\u1799\\u17c4\\u1794\\u17b6\\u1799 \\u1793\\u17b7\\u1784 \\u179f\\u1784\\u17d2\\u1782\\u1798 \\\"  ]}, {\\\"question\\\": \\\"\\u178f\\u17be\\u1782\\u17c6\\u1793\\u17b7\\u178f\\u17a2\\u1793\\u17b6\\u1792\\u17b7\\u1794\\u178f\\u17c1\\u1799\\u17d2\\u1799\\u1794\\u17b6\\u1793\\u1780\\u17be\\u178f\\u17a1\\u17be\\u1784\\u1793\\u17c5\\u1796\\u17c1\\u179b\\u178e\\u17b6?\\\", \\\"wrong_answers\\\": [\\\"\\u1793\\u17c5\\u179f\\u178f\\u179c\\u178f\\u17d2\\u179f\\u1791\\u17b8\\u17e1\\u17e6\\\", \\\"\\u1793\\u17c5\\u179f\\u178f\\u179c\\u178f\\u17d2\\u179f\\u1791\\u17b8\\u17e1\\u17e7\\\", \\\"\\u1793\\u17c5\\u179f\\u178f\\u179c\\u178f\\u17d2\\u179f\\u1791\\u17b8\\u17e1\\u17e8 \\\"  ]}, {\\\"question\\\": \\\"\\u178f\\u17be\\u17a2\\u1793\\u17b6\\u1792\\u17b7\\u1794\\u178f\\u17c1\\u1799\\u17d2\\u1799\\u1798\\u17b6\\u1793\\u17a5\\u1791\\u17d2\\u1792\\u17b7\\u1796\\u179b\\u179b\\u17be\\u179c\\u1794\\u17d2\\u1794\\u1792\\u1798\\u17cc\\u1798\\u1793\\u17bb\\u179f\\u17d2\\u179f\\u1799\\u17c9\\u17b6\\u1784\\u178a\\u17bc\\u1785\\u1798\\u17d2\\u178f\\u17c1\\u1785?\\\", \\\"wrong_answers\\\": [\\\"\\u179c\\u17b6\\u1798\\u17b7\\u1793\\u1798\\u17b6\\u1793\\u17a5\\u1791\\u17d2\\u1792\\u17b7\\u1796\\u179b\\u1791\\u17c1\\\", \\\"\\u179c\\u17b6\\u1798\\u17b6\\u1793\\u17a5\\u1791\\u17d2\\u1792\\u17b7\\u1796\\u179b\\u178f\\u17b7\\u1785\\u178f\\u17bd\\u1785\\\", \\\"\\u179c\\u17b6\\u1798\\u17b6\\u1793\\u17a5\\u1791\\u17d2\\u1792\\u17b7\\u1796\\u179b\\u178f\\u17c2\\u179b\\u17be\\u179c\\u1794\\u17d2\\u1794\\u1792\\u1798\\u17cc\\u1793\\u1799\\u17c4\\u1794\\u17b6\\u1799 \\\"  ]}, {\\\"question\\\": \\\"\\u178f\\u17be\\u17a2\\u1793\\u17b6\\u1792\\u17b7\\u1794\\u178f\\u17c1\\u1799\\u17d2\\u1799\\u1787\\u17b6\\u1782\\u17c6\\u1793\\u17b7\\u178f\\u1790\\u17d2\\u1798\\u17b8\\u17ac\\u1785\\u17b6\\u179f\\u17cb?\\\", \\\"wrong_answers\\\": [\\\"\\u179c\\u17b6\\u1787\\u17b6\\u1782\\u17c6\\u1793\\u17b7\\u178f\\u1790\\u17d2\\u1798\\u17b8\\\", \\\"\\u179c\\u17b6\\u1787\\u17b6\\u1782\\u17c6\\u1793\\u17b7\\u178f\\u1785\\u17b6\\u179f\\u17cb \\u1793\\u17b7\\u1784 \\u1790\\u17d2\\u1798\\u17b8 \\\"  ]}, {\\\"question\\\": \\\"\\u178f\\u17be\\u17a2\\u1793\\u17b6\\u1792\\u17b7\\u1794\\u178f\\u17c1\\u1799\\u17d2\\u1799\\u1798\\u17b6\\u1793\\u17a5\\u1791\\u17d2\\u1792\\u17b7\\u1796\\u179b\\u1791\\u17c5\\u179b\\u17be\\u1785\\u179b\\u1793\\u17b6\\u1794\\u178a\\u17b7\\u179c\\u178f\\u17d2\\u178f\\u1793\\u17cd\\u1799\\u17c9\\u17b6\\u1784\\u178a\\u17bc\\u1785\\u1798\\u17d2\\u178f\\u17c1\\u1785?\\\", \\\"wrong_answers\\\": [\\\"\\u179c\\u17b6\\u1798\\u17b7\\u1793\\u1798\\u17b6\\u1793\\u17a5\\u1791\\u17d2\\u1792\\u17b7\\u1796\\u179b\\u1791\\u17c1\\\", \\\"\\u179c\\u17b6\\u1798\\u17b6\\u1793\\u17a5\\u1791\\u17d2\\u1792\\u17b7\\u1796\\u179b\\u178f\\u17b7\\u1785\\u178f\\u17bd\\u1785\\\", \\\"\\u179c\\u17b6\\u1798\\u17b6\\u1793\\u17a5\\u1791\\u17d2\\u1792\\u17b7\\u1796\\u179b\\u179b\\u17be\\u1785\\u179b\\u1793\\u17b6\\u1794\\u178a\\u17b7\\u179c\\u178f\\u17d2\\u178f\\u1793\\u17cd\\u1793\\u1799\\u17c4\\u1794\\u17b6\\u1799 \\\"  ]}, {\\\"question\\\": \\\"\\u178f\\u17be\\u17a2\\u1793\\u17b6\\u1792\\u17b7\\u1794\\u178f\\u17c1\\u1799\\u17d2\\u1799\\u1794\\u17b6\\u1793\\u1795\\u17d2\\u179b\\u17b6\\u179f\\u17cb\\u1794\\u17d2\\u178f\\u17bc\\u179a\\u1782\\u17c6\\u1793\\u17b7\\u178f\\u1793\\u1799\\u17c4\\u1794\\u17b6\\u1799\\u1799\\u17c9\\u17b6\\u1784\\u178a\\u17bc\\u1785\\u1798\\u17d2\\u178f\\u17c1\\u1785?\\\", \\\"wrong_answers\\\": [\\\"\\u179c\\u17b6\\u1798\\u17b7\\u1793\\u1794\\u17b6\\u1793\\u1795\\u17d2\\u179b\\u17b6\\u179f\\u17cb\\u1794\\u17d2\\u178f\\u17bc\\u179a\\u1791\\u17c1\\\", \\\"\\u179c\\u17b6\\u1794\\u17b6\\u1793\\u1795\\u17d2\\u179b\\u17b6\\u179f\\u17cb\\u1794\\u17d2\\u178f\\u17bc\\u179a\\u1794\\u1793\\u17d2\\u178f\\u17b7\\u1785\\\", \\\"\\u179c\\u17b6\\u1794\\u17b6\\u1793\\u1795\\u17d2\\u179b\\u17b6\\u179f\\u17cb\\u1794\\u17d2\\u178f\\u17bc\\u179a\\u178f\\u17c2\\u1793\\u1799\\u17c4\\u1794\\u17b6\\u1799\\u179b\\u17c4\\u1780\\u1781\\u17b6\\u1784\\u179b\\u17b7\\u1785 \\\"  ]}, {\\\"question\\\": \\\"\\u178f\\u17be\\u17a2\\u1793\\u17b6\\u1792\\u17b7\\u1794\\u178f\\u17c1\\u1799\\u17d2\\u1799\\u1794\\u17b6\\u1793\\u1787\\u17c7\\u17a5\\u1791\\u17d2\\u1792\\u17b7\\u1796\\u179b\\u179b\\u17be\\u1785\\u179b\\u1793\\u17b6\\u179f\\u1784\\u17d2\\u1782\\u1798\\u1799\\u17c9\\u17b6\\u1784\\u178a\\u17bc\\u1785\\u1798\\u17d2\\u178f\\u17c1\\u1785?\\\", \\\"wrong_answers\\\": [\\\"\\u179c\\u17b6\\u1798\\u17b7\\u1793\\u1798\\u17b6\\u1793\\u17a5\\u1791\\u17d2\\u1792\\u17b7\\u1796\\u179b\\u1791\\u17c1\\\", \\\"\\u179c\\u17b6\\u1798\\u17b6\\u1793\\u17a5\\u1791\\u17d2\\u1792\\u17b7\\u1796\\u179b\\u178f\\u17b7\\u1785\\u178f\\u17bd\\u1785\\\", \\\"\\u179c\\u17b6\\u1798\\u17b6\\u1793\\u17a5\\u1791\\u17d2\\u1792\\u17b7\\u1796\\u179b\\u179b\\u17be\\u1785\\u179b\\u1793\\u17b6\\u179f\\u1784\\u17d2\\u1782\\u1798\\u1793\\u1799\\u17c4\\u1794\\u17b6\\u1799 \\\"  ]}]\\n\"\n",
      "              }\n",
      "            ],\n",
      "            \"role\": \"model\"\n",
      "          },\n",
      "          \"finish_reason\": \"STOP\",\n",
      "          \"index\": 0,\n",
      "          \"safety_ratings\": [\n",
      "            {\n",
      "              \"category\": \"HARM_CATEGORY_SEXUALLY_EXPLICIT\",\n",
      "              \"probability\": \"NEGLIGIBLE\"\n",
      "            },\n",
      "            {\n",
      "              \"category\": \"HARM_CATEGORY_HATE_SPEECH\",\n",
      "              \"probability\": \"NEGLIGIBLE\"\n",
      "            },\n",
      "            {\n",
      "              \"category\": \"HARM_CATEGORY_HARASSMENT\",\n",
      "              \"probability\": \"NEGLIGIBLE\"\n",
      "            },\n",
      "            {\n",
      "              \"category\": \"HARM_CATEGORY_DANGEROUS_CONTENT\",\n",
      "              \"probability\": \"NEGLIGIBLE\"\n",
      "            }\n",
      "          ]\n",
      "        }\n",
      "      ],\n",
      "      \"usage_metadata\": {\n",
      "        \"prompt_token_count\": 1247,\n",
      "        \"candidates_token_count\": 1131,\n",
      "        \"total_token_count\": 2378\n",
      "      }\n",
      "    }),\n",
      ")\n",
      "[{'question': 'តើពាក្យអនាធិបតេយ្យមកពីណា?', 'wrong_answers': ['ពាក្យនេះមកពីឡាតាំង', 'ពាក្យនេះមកពីបារាំង', 'ពាក្យនេះមកពីអារ៉ាប់ ']}, {'question': 'តើអនាធិបតេយ្យគឺជាអ្វី?', 'wrong_answers': ['វាគឺជាគំនិតដែលគាំទ្រអំណាចរបស់រដ្ឋ', 'វាគឺជាគំនិតដែលប្រឆាំងនឹងសេរីភាពបុគ្គល', 'វាគឺជាគំនិតដែលប្រឆាំងនឹងសហគមន៍ ']}, {'question': 'តើអ្នកណាជាអ្នកនយោបាយដំបូងដែលហៅខ្លួនឯងថាជាអនាធិបតេយ្យ?', 'wrong_answers': ['Karl Marx', 'Lenin', 'Mao Zedong']}, {'question': 'តើអនាធិបតេយ្យគឺជាគំនិតនយោបាយឬគំនិតសង្គម?', 'wrong_answers': ['វាគឺជាគំនិតសង្គមតែប៉ុណ្ណោះ', 'វាគឺជាគំនិតនយោបាយ និង សង្គម ']}, {'question': 'តើគំនិតអនាធិបតេយ្យបានកើតឡើងនៅពេលណា?', 'wrong_answers': ['នៅសតវត្សទី១៦', 'នៅសតវត្សទី១៧', 'នៅសតវត្សទី១៨ ']}, {'question': 'តើអនាធិបតេយ្យមានឥទ្ធិពលលើវប្បធម៌មនុស្សយ៉ាងដូចម្តេច?', 'wrong_answers': ['វាមិនមានឥទ្ធិពលទេ', 'វាមានឥទ្ធិពលតិចតួច', 'វាមានឥទ្ធិពលតែលើវប្បធម៌នយោបាយ ']}, {'question': 'តើអនាធិបតេយ្យជាគំនិតថ្មីឬចាស់?', 'wrong_answers': ['វាជាគំនិតថ្មី', 'វាជាគំនិតចាស់ និង ថ្មី ']}, {'question': 'តើអនាធិបតេយ្យមានឥទ្ធិពលទៅលើចលនាបដិវត្តន៍យ៉ាងដូចម្តេច?', 'wrong_answers': ['វាមិនមានឥទ្ធិពលទេ', 'វាមានឥទ្ធិពលតិចតួច', 'វាមានឥទ្ធិពលលើចលនាបដិវត្តន៍នយោបាយ ']}, {'question': 'តើអនាធិបតេយ្យបានផ្លាស់ប្តូរគំនិតនយោបាយយ៉ាងដូចម្តេច?', 'wrong_answers': ['វាមិនបានផ្លាស់ប្តូរទេ', 'វាបានផ្លាស់ប្តូរបន្តិច', 'វាបានផ្លាស់ប្តូរតែនយោបាយលោកខាងលិច ']}, {'question': 'តើអនាធិបតេយ្យបានជះឥទ្ធិពលលើចលនាសង្គមយ៉ាងដូចម្តេច?', 'wrong_answers': ['វាមិនមានឥទ្ធិពលទេ', 'វាមានឥទ្ធិពលតិចតួច', 'វាមានឥទ្ធិពលលើចលនាសង្គមនយោបាយ ']}]\n",
      "response:\n",
      "GenerateContentResponse(\n",
      "    done=True,\n",
      "    iterator=None,\n",
      "    result=protos.GenerateContentResponse({\n",
      "      \"candidates\": [\n",
      "        {\n",
      "          \"finish_reason\": \"RECITATION\",\n",
      "          \"index\": 0\n",
      "        }\n",
      "      ],\n",
      "      \"usage_metadata\": {\n",
      "        \"prompt_token_count\": 1277,\n",
      "        \"total_token_count\": 1277\n",
      "      }\n",
      "    }),\n",
      ")\n"
     ]
    },
    {
     "ename": "ValueError",
     "evalue": "Invalid operation: The `response.text` quick accessor requires the response to contain a valid `Part`, but none were returned. The candidate's [finish_reason](https://ai.google.dev/api/generate-content#finishreason) is 4. Meaning that the model was reciting from copyrighted material.",
     "output_type": "error",
     "traceback": [
      "\u001b[1;31m---------------------------------------------------------------------------\u001b[0m",
      "\u001b[1;31mValueError\u001b[0m                                Traceback (most recent call last)",
      "Cell \u001b[1;32mIn[28], line 2\u001b[0m\n\u001b[0;32m      1\u001b[0m \u001b[38;5;28;01mfor\u001b[39;00m data \u001b[38;5;129;01min\u001b[39;00m dataset:\n\u001b[1;32m----> 2\u001b[0m     \u001b[43mprocess_text\u001b[49m\u001b[43m(\u001b[49m\u001b[43mdata\u001b[49m\u001b[43m[\u001b[49m\u001b[38;5;124;43m'\u001b[39;49m\u001b[38;5;124;43mtext\u001b[39;49m\u001b[38;5;124;43m'\u001b[39;49m\u001b[43m]\u001b[49m\u001b[43m)\u001b[49m\n",
      "Cell \u001b[1;32mIn[27], line 5\u001b[0m, in \u001b[0;36mprocess_text\u001b[1;34m(text, chunk_size)\u001b[0m\n\u001b[0;32m      3\u001b[0m \u001b[38;5;28;01mglobal\u001b[39;00m i\n\u001b[0;32m      4\u001b[0m text_chunk \u001b[38;5;241m=\u001b[39m text[\u001b[38;5;241m0\u001b[39m : chunk_size ]\n\u001b[1;32m----> 5\u001b[0m response \u001b[38;5;241m=\u001b[39m \u001b[43mgenerate_questions_answers\u001b[49m\u001b[43m(\u001b[49m\u001b[43mtext_chunk\u001b[49m\u001b[43m)\u001b[49m\n\u001b[0;32m      6\u001b[0m \u001b[38;5;28mprint\u001b[39m(response)\n\u001b[0;32m      8\u001b[0m \u001b[38;5;28;01mwith\u001b[39;00m \u001b[38;5;28mopen\u001b[39m(\u001b[38;5;124m'\u001b[39m\u001b[38;5;124mresponses/\u001b[39m\u001b[38;5;124m'\u001b[39m \u001b[38;5;241m+\u001b[39m \u001b[38;5;28mstr\u001b[39m(i) \u001b[38;5;241m+\u001b[39m \u001b[38;5;124m'\u001b[39m\u001b[38;5;124m.json\u001b[39m\u001b[38;5;124m'\u001b[39m, \u001b[38;5;124m'\u001b[39m\u001b[38;5;124mw\u001b[39m\u001b[38;5;124m'\u001b[39m) \u001b[38;5;28;01mas\u001b[39;00m f:\n",
      "Cell \u001b[1;32mIn[26], line 10\u001b[0m, in \u001b[0;36mgenerate_questions_answers\u001b[1;34m(text_chunk)\u001b[0m\n\u001b[0;32m      3\u001b[0m response \u001b[38;5;241m=\u001b[39m model\u001b[38;5;241m.\u001b[39mgenerate_content(\n\u001b[0;32m      4\u001b[0m     few_shot \u001b[38;5;241m+\u001b[39m text_chunk,\n\u001b[0;32m      5\u001b[0m     generation_config\u001b[38;5;241m=\u001b[39mgenai\u001b[38;5;241m.\u001b[39mGenerationConfig(\n\u001b[0;32m      6\u001b[0m         response_mime_type\u001b[38;5;241m=\u001b[39m\u001b[38;5;124m\"\u001b[39m\u001b[38;5;124mapplication/json\u001b[39m\u001b[38;5;124m\"\u001b[39m, response_schema\u001b[38;5;241m=\u001b[39m\u001b[38;5;28mlist\u001b[39m[QAPairs]\n\u001b[0;32m      7\u001b[0m     ),\n\u001b[0;32m      8\u001b[0m )\n\u001b[0;32m      9\u001b[0m \u001b[38;5;28mprint\u001b[39m(response)\n\u001b[1;32m---> 10\u001b[0m response_text \u001b[38;5;241m=\u001b[39m \u001b[43mresponse\u001b[49m\u001b[38;5;241;43m.\u001b[39;49m\u001b[43mtext\u001b[49m\n\u001b[0;32m     12\u001b[0m \u001b[38;5;28;01mtry\u001b[39;00m:\n\u001b[0;32m     13\u001b[0m     json_data \u001b[38;5;241m=\u001b[39m json\u001b[38;5;241m.\u001b[39mloads(response_text)\n",
      "File \u001b[1;32md:\\Code\\Python\\test\\.venv\\Lib\\site-packages\\google\\generativeai\\types\\generation_types.py:489\u001b[0m, in \u001b[0;36mBaseGenerateContentResponse.text\u001b[1;34m(self)\u001b[0m\n\u001b[0;32m    484\u001b[0m     \u001b[38;5;28;01mraise\u001b[39;00m \u001b[38;5;167;01mValueError\u001b[39;00m(\n\u001b[0;32m    485\u001b[0m         msg \u001b[38;5;241m+\u001b[39m \u001b[38;5;124mf\u001b[39m\u001b[38;5;124m\"\u001b[39m\u001b[38;5;124m The candidate\u001b[39m\u001b[38;5;124m'\u001b[39m\u001b[38;5;124ms safety_ratings are: \u001b[39m\u001b[38;5;132;01m{\u001b[39;00mcandidate\u001b[38;5;241m.\u001b[39msafety_ratings\u001b[38;5;132;01m}\u001b[39;00m\u001b[38;5;124m.\u001b[39m\u001b[38;5;124m\"\u001b[39m,\n\u001b[0;32m    486\u001b[0m         candidate\u001b[38;5;241m.\u001b[39msafety_ratings,\n\u001b[0;32m    487\u001b[0m     )\n\u001b[0;32m    488\u001b[0m \u001b[38;5;28;01melif\u001b[39;00m fr \u001b[38;5;129;01mis\u001b[39;00m FinishReason\u001b[38;5;241m.\u001b[39mRECITATION:\n\u001b[1;32m--> 489\u001b[0m     \u001b[38;5;28;01mraise\u001b[39;00m \u001b[38;5;167;01mValueError\u001b[39;00m(\n\u001b[0;32m    490\u001b[0m         msg \u001b[38;5;241m+\u001b[39m \u001b[38;5;124m\"\u001b[39m\u001b[38;5;124m Meaning that the model was reciting from copyrighted material.\u001b[39m\u001b[38;5;124m\"\u001b[39m\n\u001b[0;32m    491\u001b[0m     )\n\u001b[0;32m    492\u001b[0m \u001b[38;5;28;01melif\u001b[39;00m fr \u001b[38;5;129;01mis\u001b[39;00m FinishReason\u001b[38;5;241m.\u001b[39mLANGUAGE:\n\u001b[0;32m    493\u001b[0m     \u001b[38;5;28;01mraise\u001b[39;00m \u001b[38;5;167;01mValueError\u001b[39;00m(msg \u001b[38;5;241m+\u001b[39m \u001b[38;5;124m\"\u001b[39m\u001b[38;5;124m Meaning the response was using an unsupported language.\u001b[39m\u001b[38;5;124m\"\u001b[39m)\n",
      "\u001b[1;31mValueError\u001b[0m: Invalid operation: The `response.text` quick accessor requires the response to contain a valid `Part`, but none were returned. The candidate's [finish_reason](https://ai.google.dev/api/generate-content#finishreason) is 4. Meaning that the model was reciting from copyrighted material."
     ]
    }
   ],
   "source": [
    "for i, data in enumerate(dataset):\n",
    "    process_text(data['text'], i)"
   ]
  }
 ],
 "metadata": {
  "kernelspec": {
   "display_name": ".venv",
   "language": "python",
   "name": "python3"
  },
  "language_info": {
   "codemirror_mode": {
    "name": "ipython",
    "version": 3
   },
   "file_extension": ".py",
   "mimetype": "text/x-python",
   "name": "python",
   "nbconvert_exporter": "python",
   "pygments_lexer": "ipython3",
   "version": "3.11.9"
  }
 },
 "nbformat": 4,
 "nbformat_minor": 2
}
